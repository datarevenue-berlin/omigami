{
 "cells": [
  {
   "cell_type": "markdown",
   "metadata": {},
   "source": [
    "# Omigami Tutorial\n",
    "Omigami's main class, `FeatureSelector`, implements the minimally biased variable selection algorithm described in _Shi L, Westerhuis JA, Rosén J, Landberg R, Brunius C. Variable selection and validation in multivariate modelling. Bioinformatics. 2019 Mar 15;35(6):972-980. doi: 10.1093/bioinformatics/bty710. PMID: 30165467; PMCID: PMC6419897._ For more details regarding the algorithm, please refer to the original paper. \n",
    "\n",
    "In this notebook, a simple application of this tool will be showcased."
   ]
  },
  {
   "cell_type": "markdown",
   "metadata": {},
   "source": [
    "### Imports and client setup\n",
    "We start importing `FeatureSelector` from `omigami`and setting up a Dask cluster to enable parallel computation.\n",
    "The cluster will run on our local machine and a dashboard that shows the state of the computation will be will be available at http://localhost:8787/status."
   ]
  },
  {
   "cell_type": "code",
   "execution_count": 1,
   "metadata": {},
   "outputs": [],
   "source": [
    "from omigami import FeatureSelector\n",
    "import dask\n",
    "\n",
    "# Spin up a local cluster using dask \n",
    "from dask.distributed import Client\n",
    "client = Client()"
   ]
  },
  {
   "cell_type": "markdown",
   "metadata": {},
   "source": [
    "## Load the data\n",
    "For this tutorial, we'll use the \"mosquito\" database (_Buck M. et al. (2016) Bacterial associations reveal spatial population dynamics in Anopheles gambiae mosquitoes. Sci. Rep., 6, 22806._). The database represents 29 measurements of operational taxonomic units (OTU) performed on mosquitoes. The target variable (\"Yotu\") is the village where the mosquitoes have been collected."
   ]
  },
  {
   "cell_type": "code",
   "execution_count": 2,
   "metadata": {},
   "outputs": [
    {
     "data": {
      "text/html": [
       "<div>\n",
       "<style scoped>\n",
       "    .dataframe tbody tr th:only-of-type {\n",
       "        vertical-align: middle;\n",
       "    }\n",
       "\n",
       "    .dataframe tbody tr th {\n",
       "        vertical-align: top;\n",
       "    }\n",
       "\n",
       "    .dataframe thead th {\n",
       "        text-align: right;\n",
       "    }\n",
       "</style>\n",
       "<table border=\"1\" class=\"dataframe\">\n",
       "  <thead>\n",
       "    <tr style=\"text-align: right;\">\n",
       "      <th></th>\n",
       "      <th>OTU_0</th>\n",
       "      <th>OTU_1</th>\n",
       "      <th>OTU_2</th>\n",
       "      <th>OTU_3</th>\n",
       "      <th>OTU_4</th>\n",
       "      <th>OTU_5</th>\n",
       "      <th>OTU_6</th>\n",
       "      <th>OTU_7</th>\n",
       "      <th>OTU_8</th>\n",
       "      <th>OTU_9</th>\n",
       "      <th>...</th>\n",
       "      <th>OTU_6670</th>\n",
       "      <th>OTU_6675</th>\n",
       "      <th>OTU_6681</th>\n",
       "      <th>OTU_6685</th>\n",
       "      <th>OTU_6686</th>\n",
       "      <th>OTU_6691</th>\n",
       "      <th>OTU_6693</th>\n",
       "      <th>OTU_6702</th>\n",
       "      <th>OTU_6709</th>\n",
       "      <th>Yotu</th>\n",
       "    </tr>\n",
       "    <tr>\n",
       "      <th>sample_id</th>\n",
       "      <th></th>\n",
       "      <th></th>\n",
       "      <th></th>\n",
       "      <th></th>\n",
       "      <th></th>\n",
       "      <th></th>\n",
       "      <th></th>\n",
       "      <th></th>\n",
       "      <th></th>\n",
       "      <th></th>\n",
       "      <th></th>\n",
       "      <th></th>\n",
       "      <th></th>\n",
       "      <th></th>\n",
       "      <th></th>\n",
       "      <th></th>\n",
       "      <th></th>\n",
       "      <th></th>\n",
       "      <th></th>\n",
       "      <th></th>\n",
       "      <th></th>\n",
       "    </tr>\n",
       "  </thead>\n",
       "  <tbody>\n",
       "    <tr>\n",
       "      <th>VK3_44</th>\n",
       "      <td>1696</td>\n",
       "      <td>0</td>\n",
       "      <td>3</td>\n",
       "      <td>0</td>\n",
       "      <td>0</td>\n",
       "      <td>0</td>\n",
       "      <td>0</td>\n",
       "      <td>0</td>\n",
       "      <td>0</td>\n",
       "      <td>46</td>\n",
       "      <td>...</td>\n",
       "      <td>0</td>\n",
       "      <td>0</td>\n",
       "      <td>0</td>\n",
       "      <td>0</td>\n",
       "      <td>0</td>\n",
       "      <td>0</td>\n",
       "      <td>0</td>\n",
       "      <td>0</td>\n",
       "      <td>0</td>\n",
       "      <td>VK3</td>\n",
       "    </tr>\n",
       "    <tr>\n",
       "      <th>VK5_9</th>\n",
       "      <td>1861</td>\n",
       "      <td>0</td>\n",
       "      <td>7</td>\n",
       "      <td>4</td>\n",
       "      <td>993</td>\n",
       "      <td>0</td>\n",
       "      <td>202</td>\n",
       "      <td>0</td>\n",
       "      <td>0</td>\n",
       "      <td>15</td>\n",
       "      <td>...</td>\n",
       "      <td>0</td>\n",
       "      <td>0</td>\n",
       "      <td>0</td>\n",
       "      <td>0</td>\n",
       "      <td>0</td>\n",
       "      <td>0</td>\n",
       "      <td>0</td>\n",
       "      <td>0</td>\n",
       "      <td>0</td>\n",
       "      <td>VK5</td>\n",
       "    </tr>\n",
       "    <tr>\n",
       "      <th>VK5_1</th>\n",
       "      <td>372</td>\n",
       "      <td>0</td>\n",
       "      <td>253</td>\n",
       "      <td>0</td>\n",
       "      <td>575</td>\n",
       "      <td>0</td>\n",
       "      <td>109</td>\n",
       "      <td>0</td>\n",
       "      <td>0</td>\n",
       "      <td>27</td>\n",
       "      <td>...</td>\n",
       "      <td>0</td>\n",
       "      <td>0</td>\n",
       "      <td>0</td>\n",
       "      <td>0</td>\n",
       "      <td>0</td>\n",
       "      <td>0</td>\n",
       "      <td>0</td>\n",
       "      <td>0</td>\n",
       "      <td>0</td>\n",
       "      <td>VK5</td>\n",
       "    </tr>\n",
       "    <tr>\n",
       "      <th>VK3_43</th>\n",
       "      <td>922</td>\n",
       "      <td>0</td>\n",
       "      <td>13</td>\n",
       "      <td>27</td>\n",
       "      <td>0</td>\n",
       "      <td>0</td>\n",
       "      <td>0</td>\n",
       "      <td>0</td>\n",
       "      <td>0</td>\n",
       "      <td>43</td>\n",
       "      <td>...</td>\n",
       "      <td>0</td>\n",
       "      <td>0</td>\n",
       "      <td>0</td>\n",
       "      <td>0</td>\n",
       "      <td>0</td>\n",
       "      <td>0</td>\n",
       "      <td>0</td>\n",
       "      <td>0</td>\n",
       "      <td>0</td>\n",
       "      <td>VK3</td>\n",
       "    </tr>\n",
       "    <tr>\n",
       "      <th>VK7_31.35</th>\n",
       "      <td>253</td>\n",
       "      <td>0</td>\n",
       "      <td>2</td>\n",
       "      <td>29</td>\n",
       "      <td>0</td>\n",
       "      <td>1</td>\n",
       "      <td>857</td>\n",
       "      <td>2</td>\n",
       "      <td>0</td>\n",
       "      <td>8</td>\n",
       "      <td>...</td>\n",
       "      <td>0</td>\n",
       "      <td>0</td>\n",
       "      <td>0</td>\n",
       "      <td>0</td>\n",
       "      <td>0</td>\n",
       "      <td>0</td>\n",
       "      <td>0</td>\n",
       "      <td>0</td>\n",
       "      <td>0</td>\n",
       "      <td>VK7</td>\n",
       "    </tr>\n",
       "  </tbody>\n",
       "</table>\n",
       "<p>5 rows × 1679 columns</p>\n",
       "</div>"
      ],
      "text/plain": [
       "           OTU_0  OTU_1  OTU_2  OTU_3  OTU_4  OTU_5  OTU_6  OTU_7  OTU_8  \\\n",
       "sample_id                                                                  \n",
       "VK3_44      1696      0      3      0      0      0      0      0      0   \n",
       "VK5_9       1861      0      7      4    993      0    202      0      0   \n",
       "VK5_1        372      0    253      0    575      0    109      0      0   \n",
       "VK3_43       922      0     13     27      0      0      0      0      0   \n",
       "VK7_31.35    253      0      2     29      0      1    857      2      0   \n",
       "\n",
       "           OTU_9  ...  OTU_6670  OTU_6675  OTU_6681  OTU_6685  OTU_6686  \\\n",
       "sample_id         ...                                                     \n",
       "VK3_44        46  ...         0         0         0         0         0   \n",
       "VK5_9         15  ...         0         0         0         0         0   \n",
       "VK5_1         27  ...         0         0         0         0         0   \n",
       "VK3_43        43  ...         0         0         0         0         0   \n",
       "VK7_31.35      8  ...         0         0         0         0         0   \n",
       "\n",
       "           OTU_6691  OTU_6693  OTU_6702  OTU_6709  Yotu  \n",
       "sample_id                                                \n",
       "VK3_44            0         0         0         0   VK3  \n",
       "VK5_9             0         0         0         0   VK5  \n",
       "VK5_1             0         0         0         0   VK5  \n",
       "VK3_43            0         0         0         0   VK3  \n",
       "VK7_31.35         0         0         0         0   VK7  \n",
       "\n",
       "[5 rows x 1679 columns]"
      ]
     },
     "execution_count": 2,
     "metadata": {},
     "output_type": "execute_result"
    }
   ],
   "source": [
    "import pandas as pd\n",
    "\n",
    "df = (\n",
    "    pd.read_csv(\"../tests/assets/mosquito.csv\")\n",
    "    .rename(columns={\"Unnamed: 0\": \"sample_id\"})\n",
    "    .set_index(\"sample_id\")\n",
    "    .sample(frac=1)  # to shuffle\n",
    ")\n",
    "df.head()"
   ]
  },
  {
   "cell_type": "markdown",
   "metadata": {},
   "source": [
    "We have to separate the predictors variables `X` (OTUs) from the target variable `y` (\"Yotu\")."
   ]
  },
  {
   "cell_type": "code",
   "execution_count": 3,
   "metadata": {},
   "outputs": [],
   "source": [
    "X = df.drop(columns=[\"Yotu\"]).values\n",
    "y = df.Yotu.values"
   ]
  },
  {
   "cell_type": "markdown",
   "metadata": {},
   "source": [
    "## Feature selection\n",
    "Now we are ready to perform the feature selection. First of all we instantiate the feature selector class. To keep the algorithm runtime short, we'll specify few repetitions, few CV splits and a high feature dropout rate (the fraction of features dropped at every step of the recursive feature elimination). In a real case scenario, a higher number of repetitions and a lower dropout rate would be appropriate."
   ]
  },
  {
   "cell_type": "code",
   "execution_count": 4,
   "metadata": {},
   "outputs": [],
   "source": [
    "fs = FeatureSelector(\n",
    "    n_outer=4,\n",
    "    n_repetitions=3,\n",
    "    metric=\"MISS\",\n",
    "    estimator=\"RFC\",\n",
    "    features_dropout_rate=0.2,\n",
    "    random_state=1\n",
    ")"
   ]
  },
  {
   "cell_type": "markdown",
   "metadata": {},
   "source": [
    "Now we can call the method `fit`, that would actually compute the selected features. Features will be also available as attributes as `selected_features`."
   ]
  },
  {
   "cell_type": "code",
   "execution_count": 5,
   "metadata": {},
   "outputs": [
    {
     "name": "stdout",
     "output_type": "stream",
     "text": [
      "CPU times: user 2.19 s, sys: 415 ms, total: 2.6 s\n",
      "Wall time: 59.2 s\n"
     ]
    }
   ],
   "source": [
    "%%time \n",
    "fs.fit(X, y, executor=client)"
   ]
  },
  {
   "cell_type": "markdown",
   "metadata": {},
   "source": [
    "### Sample correlation\n",
    "The fit method will assume that every sample is independent from the others. If the samples are correlated, e.g. they belong to the same patients, an additional vector `groups` should be passed to the fit method:\n",
    "```python\n",
    ">>> groups\n",
    "numpy.array([1, 1, 1, 2, 2, ..., 3, 1, 2])\n",
    ">>> fs.fit(X, y, groups=groups)\n",
    "```\n",
    "This vector would represent the group (as integer index) to which each sample belongs."
   ]
  },
  {
   "cell_type": "markdown",
   "metadata": {},
   "source": [
    "## Results\n",
    "Now we can print the selected features:"
   ]
  },
  {
   "cell_type": "code",
   "execution_count": 9,
   "metadata": {},
   "outputs": [],
   "source": [
    "feature_names = df.drop(columns=[\"Yotu\"]).columns\n",
    "selected_features = fs.get_selected_features(feature_names)"
   ]
  },
  {
   "cell_type": "code",
   "execution_count": 18,
   "metadata": {},
   "outputs": [
    {
     "name": "stdout",
     "output_type": "stream",
     "text": [
      "SelectedFeatures(min_feats=['OTU_28', 'OTU_400', 'OTU_3454', 'OTU_4', 'OTU_243', 'OTU_16', 'OTU_39', 'OTU_21', 'OTU_337', 'OTU_1208', 'OTU_114', 'OTU_4133', 'OTU_96'], max_feats=['OTU_28', 'OTU_400', 'OTU_4', 'OTU_39', 'OTU_3454', 'OTU_243', 'OTU_16', 'OTU_21', 'OTU_99', 'OTU_6', 'OTU_335', 'OTU_337', 'OTU_26', 'OTU_134', 'OTU_22', 'OTU_757', 'OTU_96', 'OTU_114', 'OTU_1208', 'OTU_107', 'OTU_178', 'OTU_4133', 'OTU_3688', 'OTU_4802', 'OTU_6215', 'OTU_516', 'OTU_91', 'OTU_1002'], mid_feats=['OTU_28', 'OTU_400', 'OTU_3454', 'OTU_4', 'OTU_39', 'OTU_243', 'OTU_21', 'OTU_16', 'OTU_6', 'OTU_26', 'OTU_337', 'OTU_1208', 'OTU_335', 'OTU_99', 'OTU_96', 'OTU_114', 'OTU_134'])\n"
     ]
    }
   ],
   "source": [
    "selected_features_min_model = selected_features.min_feats\n",
    "print(selected_features)"
   ]
  },
  {
   "cell_type": "markdown",
   "metadata": {},
   "source": [
    "## Cleanup\n",
    "Finally we can close the cluster client"
   ]
  },
  {
   "cell_type": "code",
   "execution_count": 19,
   "metadata": {},
   "outputs": [],
   "source": [
    "client.close()"
   ]
  }
 ],
 "metadata": {
  "kernelspec": {
   "display_name": "Python 3",
   "language": "python",
   "name": "python3"
  },
  "language_info": {
   "codemirror_mode": {
    "name": "ipython",
    "version": 3
   },
   "file_extension": ".py",
   "mimetype": "text/x-python",
   "name": "python",
   "nbconvert_exporter": "python",
   "pygments_lexer": "ipython3",
   "version": "3.8.5"
  }
 },
 "nbformat": 4,
 "nbformat_minor": 4
}
