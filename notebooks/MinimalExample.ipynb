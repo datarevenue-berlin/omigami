{
 "cells": [
  {
   "cell_type": "markdown",
   "metadata": {},
   "source": [
    "# Omigami Tutorial\n",
    "Omigami's main class, `FeatureSelector`, implements the minimally biased variable selection algorithm described in _Shi L, Westerhuis JA, Rosén J, Landberg R, Brunius C. Variable selection and validation in multivariate modelling. Bioinformatics. 2019 Mar 15;35(6):972-980. doi: 10.1093/bioinformatics/bty710. PMID: 30165467; PMCID: PMC6419897._ For more details regarding the algorithm, please refer to the original paper. \n",
    "\n",
    "In this notebook, a simple application of this tool will be showcased."
   ]
  },
  {
   "cell_type": "markdown",
   "metadata": {},
   "source": [
    "### Imports and client setup\n",
    "We start importing `FeatureSelector` from `omigami`and setting up a Dask cluster to enable parallel computation.\n",
    "The cluster will run on our local machine and a dashboard that shows the state of the computation will be will be available at http://localhost:8787/status."
   ]
  },
  {
   "cell_type": "code",
   "execution_count": 1,
   "metadata": {},
   "outputs": [],
   "source": [
    "from omigami.omigami import FeatureSelector\n",
    "import dask\n",
    "\n",
    "# Spin up a local cluster using dask \n",
    "from dask.distributed import Client\n",
    "client = Client()"
   ]
  },
  {
   "cell_type": "markdown",
   "metadata": {},
   "source": [
    "## Load the data\n",
    "For this tutorial, we'll use the \"mosquito\" database (_Buck M. et al. (2016) Bacterial associations reveal spatial population dynamics in Anopheles gambiae mosquitoes. Sci. Rep., 6, 22806._). The database represents 29 measurements of operational taxonomic units (OTU) performed on mosquitoes. The target variable (\"Yotu\") is the village where the mosquitoes have been collected."
   ]
  },
  {
   "cell_type": "code",
   "execution_count": 2,
   "metadata": {},
   "outputs": [
    {
     "data": {
      "text/html": [
       "<div>\n",
       "<style scoped>\n",
       "    .dataframe tbody tr th:only-of-type {\n",
       "        vertical-align: middle;\n",
       "    }\n",
       "\n",
       "    .dataframe tbody tr th {\n",
       "        vertical-align: top;\n",
       "    }\n",
       "\n",
       "    .dataframe thead th {\n",
       "        text-align: right;\n",
       "    }\n",
       "</style>\n",
       "<table border=\"1\" class=\"dataframe\">\n",
       "  <thead>\n",
       "    <tr style=\"text-align: right;\">\n",
       "      <th></th>\n",
       "      <th>OTU_0</th>\n",
       "      <th>OTU_1</th>\n",
       "      <th>OTU_2</th>\n",
       "      <th>OTU_3</th>\n",
       "      <th>OTU_4</th>\n",
       "      <th>OTU_5</th>\n",
       "      <th>OTU_6</th>\n",
       "      <th>OTU_7</th>\n",
       "      <th>OTU_8</th>\n",
       "      <th>OTU_9</th>\n",
       "      <th>...</th>\n",
       "      <th>OTU_6670</th>\n",
       "      <th>OTU_6675</th>\n",
       "      <th>OTU_6681</th>\n",
       "      <th>OTU_6685</th>\n",
       "      <th>OTU_6686</th>\n",
       "      <th>OTU_6691</th>\n",
       "      <th>OTU_6693</th>\n",
       "      <th>OTU_6702</th>\n",
       "      <th>OTU_6709</th>\n",
       "      <th>Yotu</th>\n",
       "    </tr>\n",
       "    <tr>\n",
       "      <th>sample_id</th>\n",
       "      <th></th>\n",
       "      <th></th>\n",
       "      <th></th>\n",
       "      <th></th>\n",
       "      <th></th>\n",
       "      <th></th>\n",
       "      <th></th>\n",
       "      <th></th>\n",
       "      <th></th>\n",
       "      <th></th>\n",
       "      <th></th>\n",
       "      <th></th>\n",
       "      <th></th>\n",
       "      <th></th>\n",
       "      <th></th>\n",
       "      <th></th>\n",
       "      <th></th>\n",
       "      <th></th>\n",
       "      <th></th>\n",
       "      <th></th>\n",
       "      <th></th>\n",
       "    </tr>\n",
       "  </thead>\n",
       "  <tbody>\n",
       "    <tr>\n",
       "      <th>VK5_9</th>\n",
       "      <td>1861</td>\n",
       "      <td>0</td>\n",
       "      <td>7</td>\n",
       "      <td>4</td>\n",
       "      <td>993</td>\n",
       "      <td>0</td>\n",
       "      <td>202</td>\n",
       "      <td>0</td>\n",
       "      <td>0</td>\n",
       "      <td>15</td>\n",
       "      <td>...</td>\n",
       "      <td>0</td>\n",
       "      <td>0</td>\n",
       "      <td>0</td>\n",
       "      <td>0</td>\n",
       "      <td>0</td>\n",
       "      <td>0</td>\n",
       "      <td>0</td>\n",
       "      <td>0</td>\n",
       "      <td>0</td>\n",
       "      <td>VK5</td>\n",
       "    </tr>\n",
       "    <tr>\n",
       "      <th>VK7_30</th>\n",
       "      <td>24</td>\n",
       "      <td>6</td>\n",
       "      <td>72</td>\n",
       "      <td>58</td>\n",
       "      <td>0</td>\n",
       "      <td>0</td>\n",
       "      <td>1</td>\n",
       "      <td>0</td>\n",
       "      <td>0</td>\n",
       "      <td>97</td>\n",
       "      <td>...</td>\n",
       "      <td>0</td>\n",
       "      <td>0</td>\n",
       "      <td>0</td>\n",
       "      <td>0</td>\n",
       "      <td>0</td>\n",
       "      <td>0</td>\n",
       "      <td>0</td>\n",
       "      <td>0</td>\n",
       "      <td>0</td>\n",
       "      <td>VK7</td>\n",
       "    </tr>\n",
       "    <tr>\n",
       "      <th>VK7_31.35</th>\n",
       "      <td>253</td>\n",
       "      <td>0</td>\n",
       "      <td>2</td>\n",
       "      <td>29</td>\n",
       "      <td>0</td>\n",
       "      <td>1</td>\n",
       "      <td>857</td>\n",
       "      <td>2</td>\n",
       "      <td>0</td>\n",
       "      <td>8</td>\n",
       "      <td>...</td>\n",
       "      <td>0</td>\n",
       "      <td>0</td>\n",
       "      <td>0</td>\n",
       "      <td>0</td>\n",
       "      <td>0</td>\n",
       "      <td>0</td>\n",
       "      <td>0</td>\n",
       "      <td>0</td>\n",
       "      <td>0</td>\n",
       "      <td>VK7</td>\n",
       "    </tr>\n",
       "    <tr>\n",
       "      <th>VK5_5</th>\n",
       "      <td>317</td>\n",
       "      <td>0</td>\n",
       "      <td>3</td>\n",
       "      <td>0</td>\n",
       "      <td>3259</td>\n",
       "      <td>0</td>\n",
       "      <td>179</td>\n",
       "      <td>0</td>\n",
       "      <td>0</td>\n",
       "      <td>3</td>\n",
       "      <td>...</td>\n",
       "      <td>0</td>\n",
       "      <td>0</td>\n",
       "      <td>0</td>\n",
       "      <td>0</td>\n",
       "      <td>0</td>\n",
       "      <td>0</td>\n",
       "      <td>0</td>\n",
       "      <td>0</td>\n",
       "      <td>0</td>\n",
       "      <td>VK5</td>\n",
       "    </tr>\n",
       "    <tr>\n",
       "      <th>VK3_47</th>\n",
       "      <td>396</td>\n",
       "      <td>0</td>\n",
       "      <td>14</td>\n",
       "      <td>19</td>\n",
       "      <td>36</td>\n",
       "      <td>0</td>\n",
       "      <td>0</td>\n",
       "      <td>0</td>\n",
       "      <td>0</td>\n",
       "      <td>123</td>\n",
       "      <td>...</td>\n",
       "      <td>0</td>\n",
       "      <td>0</td>\n",
       "      <td>0</td>\n",
       "      <td>0</td>\n",
       "      <td>0</td>\n",
       "      <td>0</td>\n",
       "      <td>0</td>\n",
       "      <td>0</td>\n",
       "      <td>0</td>\n",
       "      <td>VK3</td>\n",
       "    </tr>\n",
       "  </tbody>\n",
       "</table>\n",
       "<p>5 rows × 1679 columns</p>\n",
       "</div>"
      ],
      "text/plain": [
       "           OTU_0  OTU_1  OTU_2  OTU_3  OTU_4  OTU_5  OTU_6  OTU_7  OTU_8  \\\n",
       "sample_id                                                                  \n",
       "VK5_9       1861      0      7      4    993      0    202      0      0   \n",
       "VK7_30        24      6     72     58      0      0      1      0      0   \n",
       "VK7_31.35    253      0      2     29      0      1    857      2      0   \n",
       "VK5_5        317      0      3      0   3259      0    179      0      0   \n",
       "VK3_47       396      0     14     19     36      0      0      0      0   \n",
       "\n",
       "           OTU_9  ...  OTU_6670  OTU_6675  OTU_6681  OTU_6685  OTU_6686  \\\n",
       "sample_id         ...                                                     \n",
       "VK5_9         15  ...         0         0         0         0         0   \n",
       "VK7_30        97  ...         0         0         0         0         0   \n",
       "VK7_31.35      8  ...         0         0         0         0         0   \n",
       "VK5_5          3  ...         0         0         0         0         0   \n",
       "VK3_47       123  ...         0         0         0         0         0   \n",
       "\n",
       "           OTU_6691  OTU_6693  OTU_6702  OTU_6709  Yotu  \n",
       "sample_id                                                \n",
       "VK5_9             0         0         0         0   VK5  \n",
       "VK7_30            0         0         0         0   VK7  \n",
       "VK7_31.35         0         0         0         0   VK7  \n",
       "VK5_5             0         0         0         0   VK5  \n",
       "VK3_47            0         0         0         0   VK3  \n",
       "\n",
       "[5 rows x 1679 columns]"
      ]
     },
     "execution_count": 2,
     "metadata": {},
     "output_type": "execute_result"
    }
   ],
   "source": [
    "import pandas as pd\n",
    "\n",
    "df = (\n",
    "    pd.read_csv(\"./mosquito.csv\")\n",
    "    .rename(columns={\"Unnamed: 0\": \"sample_id\"})\n",
    "    .set_index(\"sample_id\")\n",
    "    .sample(frac=1)  # to shuffle\n",
    ")\n",
    "df.head()"
   ]
  },
  {
   "cell_type": "markdown",
   "metadata": {},
   "source": [
    "We have to separate the predictors variables `X` (OTUs) from the target variable `y` (\"Yotu\")."
   ]
  },
  {
   "cell_type": "code",
   "execution_count": 3,
   "metadata": {},
   "outputs": [],
   "source": [
    "X = df.drop(columns=[\"Yotu\"]).values\n",
    "y = df.Yotu.values"
   ]
  },
  {
   "cell_type": "markdown",
   "metadata": {},
   "source": [
    "## Feature selection\n",
    "Now we are ready to perform the feature selection. First of all we instantiate the feature selector class. To keep the algorithm runtime short, we'll specify few repetitions, few CV splits and a high feature dropout rate (the fraction of features dropped at every step of the recursive feature elimination). In a real case scenario, a higher number of repetitions and a lower dropout rate would be appropriate."
   ]
  },
  {
   "cell_type": "code",
   "execution_count": 4,
   "metadata": {},
   "outputs": [
    {
     "name": "stderr",
     "output_type": "stream",
     "text": [
      "WARNING:root:n_inner is not specified, setting it to n_outer - 1\n"
     ]
    }
   ],
   "source": [
    "fs = FeatureSelector(n_outer=4, repetitions=3, metric=\"MISS\", estimator=\"RFC\", features_dropout_rate=0.2)"
   ]
  },
  {
   "cell_type": "markdown",
   "metadata": {},
   "source": [
    "Now we can call the method `fit`, that would actually compute the selected features. Features will be also available as attributes as `selected_features`."
   ]
  },
  {
   "cell_type": "code",
   "execution_count": 5,
   "metadata": {},
   "outputs": [
    {
     "name": "stdout",
     "output_type": "stream",
     "text": [
      "CPU times: user 8.75 s, sys: 1.35 s, total: 10.1 s\n",
      "Wall time: 3min 6s\n"
     ]
    }
   ],
   "source": [
    "%%time \n",
    "selected_features = fs.fit(X, y)"
   ]
  },
  {
   "cell_type": "markdown",
   "metadata": {},
   "source": [
    "### Sample correlation\n",
    "The fit method will assume that every sample is independent from the others. If the samples are correlated, e.g. they belong to the same patients, an additional vector `groups` should be passed to the fit method:\n",
    "```python\n",
    ">>> groups\n",
    "numpy.array([1, 1, 1, 2, 2, ..., 3, 1, 2])\n",
    ">>> fs.fit(X, y, groups=groups)\n",
    "```\n",
    "This vector would represent the group (as integer index) to which each sample belongs.\n",
    "\n",
    "### Results\n",
    "Now we can print the selected features:"
   ]
  },
  {
   "cell_type": "code",
   "execution_count": 6,
   "metadata": {},
   "outputs": [
    {
     "name": "stdout",
     "output_type": "stream",
     "text": [
      "Index(['OTU_4', 'OTU_39', 'OTU_243', 'OTU_16', 'OTU_3454', 'OTU_1208',\n",
      "       'OTU_400', 'OTU_28'],\n",
      "      dtype='object')\n"
     ]
    }
   ],
   "source": [
    "feature_names = df.drop(columns=[\"Yotu\"]).columns\n",
    "selected_features_min_model = list(fs.selected_features[\"min\"])\n",
    "print(feature_names[selected_features_min_model])"
   ]
  },
  {
   "cell_type": "markdown",
   "metadata": {},
   "source": [
    "## Cleanup\n",
    "Finally we can close the cluster client"
   ]
  },
  {
   "cell_type": "code",
   "execution_count": 7,
   "metadata": {},
   "outputs": [],
   "source": [
    "client.close()"
   ]
  }
 ],
 "metadata": {
  "kernelspec": {
   "display_name": "Python 3",
   "language": "python",
   "name": "python3"
  },
  "language_info": {
   "codemirror_mode": {
    "name": "ipython",
    "version": 3
   },
   "file_extension": ".py",
   "mimetype": "text/x-python",
   "name": "python",
   "nbconvert_exporter": "python",
   "pygments_lexer": "ipython3",
   "version": "3.9.1"
  }
 },
 "nbformat": 4,
 "nbformat_minor": 4
}
